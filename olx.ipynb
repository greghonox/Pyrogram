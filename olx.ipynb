{
 "cells": [
  {
   "cell_type": "code",
   "execution_count": 1,
   "metadata": {},
   "outputs": [],
   "source": [
    "from requests import get\n",
    "from bs4 import BeautifulSoup"
   ]
  },
  {
   "cell_type": "code",
   "execution_count": 2,
   "metadata": {},
   "outputs": [],
   "source": [
    "product_interest = 'tablet'\n",
    "URL_BASE = 'https://www.olx.com.br/estado-sp/grande-campinas?q={product_interest}&o={page}'\n",
    "\n",
    "headers = {\n",
    "    \"User-Agent\": \"Mozilla/5.0 (X11; Linux x86_64) AppleWebKit/537.36 (KHTML, like Gecko) Chrome/120.0.0.0 Safari/537.36\",\n",
    "}\n",
    "city_find = ['campinas', 'hortolândia', 'sumaré', 'valinhos', 'vinhedo', 'jundia', 'monte mor', 'indaiatuba', 'americana', 'nova odessa']"
   ]
  },
  {
   "cell_type": "code",
   "execution_count": 3,
   "metadata": {},
   "outputs": [],
   "source": [
    "def check_end_find(page: BeautifulSoup) -> None:\n",
    "    end = page.find('div', class_='sc-4c1746fa-0 hAnZTy')\n",
    "    if end and 'ops!' in end.text.lower():\n",
    "        raise Exception('End of search')\n",
    "    \n",
    "def get_products_per_page(page: int) -> BeautifulSoup:\n",
    "    response = get(URL_BASE.format(page=page, product_interest=product_interest), headers=headers)\n",
    "    html = response.text\n",
    "    return BeautifulSoup(html, 'html.parser')\n",
    "\n",
    "def process_page(page: BeautifulSoup) -> None:\n",
    "    class_table = 'sc-e859a9d3-2 PnTvA'\n",
    "    check_end_find(page)\n",
    "    table = page.find('div', class_=class_table)\n",
    "    if table and (rows := table.find_all('div', class_='sc-e859a9d3-0 gHnzLR renderIfVisible')):\n",
    "        for row in rows:\n",
    "            if row.find('img'):\n",
    "                locate = row.find('div', class_='olx-ad-card__location-date-container')\n",
    "                product = row.find('img')['alt']\n",
    "                link = row.find('a')['href']\n",
    "                price = row.find('div', class_='olx-ad-card__details-price--horizontal')\n",
    "                if locate and locate.text.split(',')[0].lower() in city_find and product_interest in product.lower():\n",
    "                    print(f\"{locate.text[:50]:<50}|{price.text[:20]:>20}|{link}\")\n"
   ]
  },
  {
   "cell_type": "code",
   "execution_count": 4,
   "metadata": {},
   "outputs": [
    {
     "name": "stdout",
     "output_type": "stream",
     "text": [
      "Americana, Vila Cordenonsi                        |R$ 1.499R$ 1.3503x d|https://sp.olx.com.br/grande-campinas/informatica/tablets-e-readers/tablet-samsung-s6-lite-1267944086\n",
      "Campinas, Vila Marieta                            |              R$ 300|https://sp.olx.com.br/grande-campinas/informatica/tablets-e-readers/tablet-multilaser-m10-3g-32gb-10-1-32gb-preto-e-2gb-de-memoria-ram-1269963771\n",
      "Campinas, Jardim Márcia                           |              R$ 150|https://sp.olx.com.br/grande-campinas/informatica/tablets-e-readers/tablet-dl-r-150-1269930002\n",
      "Campinas, Swiss Park                              |            R$ 2.999|https://sp.olx.com.br/grande-campinas/informatica/tablets-e-readers/tablet-panasonic-rugged-fz-g1-1269914396\n",
      "Indaiatuba, Vila Pires da Cunha                   |R$ 5003x de R$ 166,6|https://sp.olx.com.br/grande-campinas/celulares/troco-por-tablet-1269890965\n",
      "Campinas, Jardim Aurélia                          |              R$ 800|https://sp.olx.com.br/grande-campinas/informatica/tablets-e-readers/tablet-samsung-galaxy-tab-a-10-5-sm-t595-capa-1269876030\n",
      "Hortolândia, Parque Olívio Franceschini           |              R$ 799|https://sp.olx.com.br/grande-campinas/eletronicos-e-celulares/acessorios-para-smartwatch/tablet-sansumg-1269858453\n",
      "Campinas, Jardim Bom Retiro                       | R$ 553x de R$ 18,33|https://sp.olx.com.br/grande-campinas/informatica/tablets-e-readers/tablet-phaser-kinno-plus-travado-1267465441\n",
      "Sumaré, Jardim Nova Veneza (Nova Veneza)          |        R$ 235R$ 200|https://sp.olx.com.br/grande-campinas/informatica/tablets-e-readers/tablet-multilaser-46t-7-preto-1267465164\n",
      "Americana, Jardim Novo Paraíso                    |               R$ 80|https://sp.olx.com.br/grande-campinas/informatica/tablets-e-readers/tablet-dl-2-com-defeito-1267231411\n",
      "Campinas, Vila Elza                               |               R$ 40|https://sp.olx.com.br/grande-campinas/artigos-infantis/tablet-do-patati-e-patata-1267189553\n",
      "Americana, Parque Residencial Jaguari             |R$ 8503x de R$ 283,3|https://sp.olx.com.br/grande-campinas/celulares/tablet-a7-lite-1267096757\n",
      "Campinas, Jardim Eulina                           |R$ 4503x de R$ 150,0|https://sp.olx.com.br/grande-campinas/computadores-e-acessorios/tablet-samsung-galaxy-tab-a-8-wi-fi-2gb-ram-32gb-1263659709\n",
      "Campinas, Centro                                  |R$ 4003x de R$ 133,3|https://sp.olx.com.br/grande-campinas/informatica/tablets-e-readers/vendo-tablet-multilaser-novo-lacrado-na-caixa-1263617851\n",
      "Campinas, Vila João Jorge                         |            R$ 1.200|https://sp.olx.com.br/grande-campinas/computadores-e-acessorios/tablet-moto-g70-1262808149\n",
      "Indaiatuba, Centro                                |R$ 4.6953x de R$ 1.5|https://sp.olx.com.br/grande-campinas/computadores-e-acessorios/notebook-tablet-i7-12-gen-16gb-ram-e-1tb-ssd-12x-sem-juros-ou-desconto-no-pix-1250407212\n",
      "Americana, Centro                                 |R$ 4.6943x de R$ 1.5|https://sp.olx.com.br/grande-campinas/computadores-e-acessorios/notebook-tablet-i7-12th-gen-com-1tb-ssd-e-8gb-ram-12x-sem-juros-ou-desconto-no-pix-1250408163\n",
      "Valinhos, Centro                                  |R$ 4.6993x de R$ 1.5|https://sp.olx.com.br/grande-campinas/computadores-e-acessorios/notebook-tablet-i7-12th-16gb-ram-e-1tb-ssd-12x-sem-juros-ou-desconto-no-pix-1250408205\n"
     ]
    },
    {
     "ename": "Exception",
     "evalue": "End of search",
     "output_type": "error",
     "traceback": [
      "\u001b[0;31m---------------------------------------------------------------------------\u001b[0m",
      "\u001b[0;31mException\u001b[0m                                 Traceback (most recent call last)",
      "Cell \u001b[0;32mIn[4], line 3\u001b[0m\n\u001b[1;32m      1\u001b[0m \u001b[38;5;28;01mfor\u001b[39;00m page \u001b[38;5;129;01min\u001b[39;00m \u001b[38;5;28mrange\u001b[39m(\u001b[38;5;241m1\u001b[39m, \u001b[38;5;241m200\u001b[39m):\n\u001b[1;32m      2\u001b[0m     content_page \u001b[38;5;241m=\u001b[39m get_products_per_page(page)\n\u001b[0;32m----> 3\u001b[0m     \u001b[43mprocess_page\u001b[49m\u001b[43m(\u001b[49m\u001b[43mcontent_page\u001b[49m\u001b[43m)\u001b[49m\n",
      "Cell \u001b[0;32mIn[3], line 13\u001b[0m, in \u001b[0;36mprocess_page\u001b[0;34m(page)\u001b[0m\n\u001b[1;32m     11\u001b[0m \u001b[38;5;28;01mdef\u001b[39;00m \u001b[38;5;21mprocess_page\u001b[39m(page: BeautifulSoup) \u001b[38;5;241m-\u001b[39m\u001b[38;5;241m>\u001b[39m \u001b[38;5;28;01mNone\u001b[39;00m:\n\u001b[1;32m     12\u001b[0m     class_table \u001b[38;5;241m=\u001b[39m \u001b[38;5;124m'\u001b[39m\u001b[38;5;124msc-e859a9d3-2 PnTvA\u001b[39m\u001b[38;5;124m'\u001b[39m\n\u001b[0;32m---> 13\u001b[0m     \u001b[43mcheck_end_find\u001b[49m\u001b[43m(\u001b[49m\u001b[43mpage\u001b[49m\u001b[43m)\u001b[49m\n\u001b[1;32m     14\u001b[0m     table \u001b[38;5;241m=\u001b[39m page\u001b[38;5;241m.\u001b[39mfind(\u001b[38;5;124m'\u001b[39m\u001b[38;5;124mdiv\u001b[39m\u001b[38;5;124m'\u001b[39m, class_\u001b[38;5;241m=\u001b[39mclass_table)\n\u001b[1;32m     15\u001b[0m     \u001b[38;5;28;01mif\u001b[39;00m table \u001b[38;5;129;01mand\u001b[39;00m (rows \u001b[38;5;241m:=\u001b[39m table\u001b[38;5;241m.\u001b[39mfind_all(\u001b[38;5;124m'\u001b[39m\u001b[38;5;124mdiv\u001b[39m\u001b[38;5;124m'\u001b[39m, class_\u001b[38;5;241m=\u001b[39m\u001b[38;5;124m'\u001b[39m\u001b[38;5;124msc-e859a9d3-0 gHnzLR renderIfVisible\u001b[39m\u001b[38;5;124m'\u001b[39m)):\n",
      "Cell \u001b[0;32mIn[3], line 4\u001b[0m, in \u001b[0;36mcheck_end_find\u001b[0;34m(page)\u001b[0m\n\u001b[1;32m      2\u001b[0m end \u001b[38;5;241m=\u001b[39m page\u001b[38;5;241m.\u001b[39mfind(\u001b[38;5;124m'\u001b[39m\u001b[38;5;124mdiv\u001b[39m\u001b[38;5;124m'\u001b[39m, class_\u001b[38;5;241m=\u001b[39m\u001b[38;5;124m'\u001b[39m\u001b[38;5;124msc-4c1746fa-0 hAnZTy\u001b[39m\u001b[38;5;124m'\u001b[39m)\n\u001b[1;32m      3\u001b[0m \u001b[38;5;28;01mif\u001b[39;00m end \u001b[38;5;129;01mand\u001b[39;00m \u001b[38;5;124m'\u001b[39m\u001b[38;5;124mops!\u001b[39m\u001b[38;5;124m'\u001b[39m \u001b[38;5;129;01min\u001b[39;00m end\u001b[38;5;241m.\u001b[39mtext\u001b[38;5;241m.\u001b[39mlower():\n\u001b[0;32m----> 4\u001b[0m     \u001b[38;5;28;01mraise\u001b[39;00m \u001b[38;5;167;01mException\u001b[39;00m(\u001b[38;5;124m'\u001b[39m\u001b[38;5;124mEnd of search\u001b[39m\u001b[38;5;124m'\u001b[39m)\n",
      "\u001b[0;31mException\u001b[0m: End of search"
     ]
    }
   ],
   "source": [
    "for page in range(1, 200):\n",
    "    content_page = get_products_per_page(page)\n",
    "    process_page(content_page)"
   ]
  }
 ],
 "metadata": {
  "kernelspec": {
   "display_name": "venv",
   "language": "python",
   "name": "python3"
  },
  "language_info": {
   "codemirror_mode": {
    "name": "ipython",
    "version": 3
   },
   "file_extension": ".py",
   "mimetype": "text/x-python",
   "name": "python",
   "nbconvert_exporter": "python",
   "pygments_lexer": "ipython3",
   "version": "3.10.12"
  }
 },
 "nbformat": 4,
 "nbformat_minor": 2
}
